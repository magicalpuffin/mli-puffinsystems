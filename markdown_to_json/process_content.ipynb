{
 "cells": [
  {
   "cell_type": "code",
   "execution_count": 4,
   "metadata": {},
   "outputs": [],
   "source": [
    "import os\n",
    "import shutil\n",
    "from typing import Callable\n",
    "\n",
    "from pydantic import RootModel\n",
    "from pydantic._internal._model_construction import ModelMetaclass\n",
    "\n",
    "from markdown_to_json.config import SITE_CONTENT_PATH, SVELTE_SITE_STATIC_CONTENT_PATH\n",
    "from markdown_to_json.markdown_types import BlogPost, CardContent\n",
    "from markdown_to_json.utils import get_blog_post, get_card_content"
   ]
  },
  {
   "cell_type": "code",
   "execution_count": 5,
   "metadata": {},
   "outputs": [],
   "source": [
    "def read_markdown_files(\n",
    "    directory: str, model: ModelMetaclass, markdown_serializer: Callable\n",
    "):\n",
    "    root_list_model = RootModel[list[model]]\n",
    "    model_list = []\n",
    "\n",
    "    for file in os.listdir(directory):\n",
    "        model_list.append(markdown_serializer(directory + file))\n",
    "\n",
    "    return root_list_model(model_list)\n",
    "\n",
    "\n",
    "def root_model_to_json(root_model: RootModel, filepath: str):\n",
    "    os.makedirs(os.path.dirname(filepath), exist_ok=True)\n",
    "    with open(filepath, \"w\") as outfile:\n",
    "        outfile.write(root_model.model_dump_json())"
   ]
  },
  {
   "cell_type": "code",
   "execution_count": 6,
   "metadata": {},
   "outputs": [],
   "source": [
    "blog_post_root = read_markdown_files(\n",
    "    SITE_CONTENT_PATH + \"markdown/blog/\", BlogPost, get_blog_post\n",
    ")\n",
    "root_model_to_json(\n",
    "    blog_post_root, SVELTE_SITE_STATIC_CONTENT_PATH + \"data/blogPostList.json\"\n",
    ")"
   ]
  },
  {
   "cell_type": "code",
   "execution_count": 7,
   "metadata": {},
   "outputs": [],
   "source": [
    "card_root = read_markdown_files(\n",
    "    SITE_CONTENT_PATH + \"markdown/card/\", CardContent, get_card_content\n",
    ")\n",
    "root_model_to_json(\n",
    "    card_root, SVELTE_SITE_STATIC_CONTENT_PATH + \"data/cardContentList.json\"\n",
    ")"
   ]
  },
  {
   "cell_type": "code",
   "execution_count": 8,
   "metadata": {},
   "outputs": [
    {
     "data": {
      "text/plain": [
       "'puffinsystems_homepage/static/static/content/'"
      ]
     },
     "execution_count": 8,
     "metadata": {},
     "output_type": "execute_result"
    }
   ],
   "source": [
    "shutil.copytree(\n",
    "    \"site_content/static/content/\",\n",
    "    \"puffinsystems_homepage/static/static/content/\",\n",
    "    dirs_exist_ok=True,\n",
    ")"
   ]
  }
 ],
 "metadata": {
  "kernelspec": {
   "display_name": ".venv",
   "language": "python",
   "name": "python3"
  },
  "language_info": {
   "codemirror_mode": {
    "name": "ipython",
    "version": 3
   },
   "file_extension": ".py",
   "mimetype": "text/x-python",
   "name": "python",
   "nbconvert_exporter": "python",
   "pygments_lexer": "ipython3",
   "version": "3.12.0"
  }
 },
 "nbformat": 4,
 "nbformat_minor": 2
}
