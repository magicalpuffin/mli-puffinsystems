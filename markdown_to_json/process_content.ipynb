{
 "cells": [
  {
   "cell_type": "code",
   "execution_count": 6,
   "metadata": {},
   "outputs": [],
   "source": [
    "import json\n",
    "import shutil\n",
    "\n",
    "from markdown_to_json.config import (\n",
    "    SITE_CONTENT_PATH,\n",
    "    SITE_CONTENT_STATIC_CONTENT_PATH,\n",
    "    SVELTE_SITE_STATIC_CONTENT_PATH,\n",
    "    TEST_DATA_CARD,\n",
    ")\n",
    "from markdown_to_json.markdown_types import BlogPost, CardContent\n",
    "from markdown_to_json.utils import (\n",
    "    get_blog_post,\n",
    "    get_card_content,\n",
    "    read_markdown_files,\n",
    "    root_model_to_json,\n",
    ")"
   ]
  },
  {
   "cell_type": "code",
   "execution_count": 2,
   "metadata": {},
   "outputs": [],
   "source": [
    "blog_post_root = read_markdown_files(\n",
    "    SITE_CONTENT_PATH + \"markdown/blog/\", BlogPost, get_blog_post\n",
    ")\n",
    "root_model_to_json(\n",
    "    blog_post_root, SVELTE_SITE_STATIC_CONTENT_PATH + \"data/blogPostList.json\"\n",
    ")"
   ]
  },
  {
   "cell_type": "code",
   "execution_count": 3,
   "metadata": {},
   "outputs": [],
   "source": [
    "card_root = read_markdown_files(\n",
    "    SITE_CONTENT_PATH + \"markdown/card/\", CardContent, get_card_content\n",
    ")\n",
    "root_model_to_json(\n",
    "    card_root, SVELTE_SITE_STATIC_CONTENT_PATH + \"data/cardContentList.json\"\n",
    ")"
   ]
  },
  {
   "cell_type": "code",
   "execution_count": 4,
   "metadata": {},
   "outputs": [
    {
     "data": {
      "text/plain": [
       "'puffinsystems_homepage/static/static/content/'"
      ]
     },
     "execution_count": 4,
     "metadata": {},
     "output_type": "execute_result"
    }
   ],
   "source": [
    "shutil.copytree(\n",
    "    SITE_CONTENT_STATIC_CONTENT_PATH,\n",
    "    SVELTE_SITE_STATIC_CONTENT_PATH,\n",
    "    dirs_exist_ok=True,\n",
    ")"
   ]
  }
 ],
 "metadata": {
  "kernelspec": {
   "display_name": ".venv",
   "language": "python",
   "name": "python3"
  },
  "language_info": {
   "codemirror_mode": {
    "name": "ipython",
    "version": 3
   },
   "file_extension": ".py",
   "mimetype": "text/x-python",
   "name": "python",
   "nbconvert_exporter": "python",
   "pygments_lexer": "ipython3",
   "version": "3.11.6"
  }
 },
 "nbformat": 4,
 "nbformat_minor": 2
}
