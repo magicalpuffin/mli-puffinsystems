{
 "cells": [
  {
   "cell_type": "code",
   "execution_count": 1,
   "metadata": {},
   "outputs": [],
   "source": [
    "import json\n",
    "import os\n",
    "\n",
    "from markdown_to_json.markdown_types import BlogPost\n",
    "from markdown_to_json.utils import get_blog_post, get_slug, get_title\n",
    "\n",
    "BLOG_PATH = \"puffinsystems_homepage/static/markdown/blog/\"\n",
    "DATA_PATH = \"puffinsystems_homepage/static/data/\""
   ]
  },
  {
   "cell_type": "code",
   "execution_count": 2,
   "metadata": {},
   "outputs": [],
   "source": [
    "blogPostList: list[BlogPost] = []\n",
    "\n",
    "for file in os.listdir(BLOG_PATH):\n",
    "    blogPostList.append(get_blog_post(BLOG_PATH + file))"
   ]
  },
  {
   "cell_type": "code",
   "execution_count": 3,
   "metadata": {},
   "outputs": [
    {
     "data": {
      "text/plain": [
       "{'title': 'Demo Markdown Notebook',\n",
       " 'content': \"![demo markdown notebook screenshot](/images/blog/20230712_markdown_notebook.png)\\n\\n## Overview\\n\\nThis basic note taking app was my first project after completing the [Mozilla Svelte Tutorial](https://developer.mozilla.org/en-US/docs/Learn/Tools_and_testing/Client-side_JavaScript_frameworks/Svelte_getting_started) and was used to explore how Svelte connects to other libraries. Over the course of about 2 weeks, I successfully mashed a bunch of things together. This is some of my experiences.\\n\\n### Update 2023-12-18\\n\\nThis blog post was updated to be more sensible. I also deployed everything on AWS using SST instead of syncing to an S3 bucket like a neanderthal.\\n\\n## Svelte\\n\\nSvelte was extremely easy to pick up. Components can be dynamic component and styled all from a single file. Considering my experience so far at this point was with Django and HTMX, this probably isn't surprising.\\n\\n## Typescript\\n\\nI can understand why Typescript would be a requirement for large and complex projects. When everything has a clear type, it is easier to understand how you should use different functions and objects. However, there is an annoying learning curve. I found many of the type errors provided by VSCode confusing.\\n\\n### Tailwindcss\\n\\nI took me a while to understand Tailwind, probably because I didn't understand CSS.  I was also comparing it to Bootstrap which provided complete components with classes, not just styles. Now I think Tailwind is invaluable due to the customization and flexibility. I still don't understand CSS.\\n\\nThe HTML class names are unwieldy, but using classes allowed for better uniformity between components without  global styles.\\n\\nTailwind also has a great plugin for typography.\\n\\n### Ace Editor\\n\\nAce is a web text/code editor with support for writing markdown. Although I could have used the an Svelte Ace component package, I decided to implement the component myself for practice. Svelte doesn't have a large package ecosystem, so it is important learn how to create custom components for existing JS package.\\n\\nThe documentation for Ace was frustratingly sparse. I should have just used a better  markdown editor.\",\n",
       " 'slug_url': '2023-07-12_demo-markdown-notebook',\n",
       " 'date_created': datetime.date(2023, 7, 12),\n",
       " 'date_updated': datetime.date(2023, 12, 18)}"
      ]
     },
     "execution_count": 3,
     "metadata": {},
     "output_type": "execute_result"
    }
   ],
   "source": [
    "blogPostList[0].model_dump()"
   ]
  },
  {
   "cell_type": "code",
   "execution_count": 4,
   "metadata": {},
   "outputs": [],
   "source": [
    "import frontmatter\n",
    "\n",
    "with open(BLOG_PATH + file) as f:\n",
    "    post = frontmatter.load(f)"
   ]
  },
  {
   "cell_type": "code",
   "execution_count": 5,
   "metadata": {},
   "outputs": [
    {
     "data": {
      "text/plain": [
       "{'date_created': datetime.date(2023, 7, 15),\n",
       " 'date_updated': datetime.date(2023, 11, 4),\n",
       " 'content': \"![demo mfg kanban screenshot](/images/blog/20230715_mfg_kanban.png)\\n\\n## Overview\\n\\nThis post will describe the original Django version of this project. I plan on remaking this project using Svelte and Django Rest Framework.\\n\\nThe very first draft of this project was created in a few hours as quickly as possible. The idea was to create a custom kanban system similar to what is available with Jira and Smartsheets.\\n\\nFrontend and backend was created using Django and Htmx. This was deployed to AWS Lambda using Zappa. The database is an sqlite database on AWS S3.\\n\\n## Objective\\n\\nThis project was created to test out how quickly Django could be used to create a basic web app.\\n\\nLooking back at my commits, this project was started on 2023-04-19 and completed on 2023-04-22. This project was rushed.\\n\\n## Key Libraries and Packages\\n\\n### Django\\n\\nDjango is an extremely fast batteries included python web framework. If you are building a CRUD app and want a ORM, Django is probably the fastest option. However, if you plan building anything complicated for the frontend Django will become unmaintainable very quickly.\\n\\nMost other web frameworks (ex. Svelte) use JS and a component based system for the frontend. This allows them to be interactive and flexible. For Django and its Jinja templates to be comparable, janky JS or Htmx is required.\\n\\nHowever, everything on the backend is handled fairly well by Django. Perhaps that's why people care more about Django Rest Framework than Django.\\n\\n### Bootstrap\\n\\nBootstrap is a CSS component library. Instead of having the user define all of the details and configure their own components such as with Tailwind, Bootstrap, just defines what all the components look like.\\n\\nThis makes it fast but inflexible. Everything always looks like a Bootstrap component. This is still probably the fastest way to get good looking CSS on a Django app, which was why I used it here.\\n\\n### Htmx\\n\\nHtmx basically lets you do JS things such as HTTP requests in html. This is great for Django because you are able to request different endpoints and swap out sections of html using `hx-swap` and `hx-target`.\\n\\nThis allowed me to make it feel like this was a single page app without a lot of JS. Although, every requrest still required the server to do the rendering.\\n\\n### Sortable JS\\n\\nSortable was the JS framework used to allow drag, drop and reordering of cards. I am actually kind of surprised this worked as well as it did.\\n\\nDue to how Django works, this required some weird JS on the base template. After placing each card down, it Htmx is used to save the order of items to the database.\\n\\n### Zappa\\n\\nZappa makes it possible to deploying Django apps serverless on AWS. It does still seem a bit janky with most tutorials being incomplete. The best tutorial I found was:\\n\\nhttps://romandc.com/zappa-django-guide/\\n\\nZappa also does not fit in well within a stack. Other resources (ex. RDS and CloudFront) will need to be configured separately. Ideally you would be able to deploy the Django Lambda using AWS CDK.\\n\\n### Django S3 Sqlite\\n\\nDjango automatically uses an sqlite database, however, when deployed on AWS Lambda, sqlite can't be used due to the dependency missing in the Lambda environment.\\n\\nAn interesting work around is the package `django-s3-sqlite`. This allows you to access an sqlite databae on S3. For a database which will rarely be used, this is a much better alternative than spinning up an RDS instance. I guess this counts as a serverless database.\"}"
      ]
     },
     "execution_count": 5,
     "metadata": {},
     "output_type": "execute_result"
    }
   ],
   "source": [
    "post.to_dict()"
   ]
  },
  {
   "cell_type": "code",
   "execution_count": 6,
   "metadata": {},
   "outputs": [
    {
     "data": {
      "text/plain": [
       "{'title': 'Demo Manufacturing Kanban',\n",
       " 'content': \"![demo mfg kanban screenshot](/images/blog/20230715_mfg_kanban.png)\\n\\n## Overview\\n\\nThis post will describe the original Django version of this project. I plan on remaking this project using Svelte and Django Rest Framework.\\n\\nThe very first draft of this project was created in a few hours as quickly as possible. The idea was to create a custom kanban system similar to what is available with Jira and Smartsheets.\\n\\nFrontend and backend was created using Django and Htmx. This was deployed to AWS Lambda using Zappa. The database is an sqlite database on AWS S3.\\n\\n## Objective\\n\\nThis project was created to test out how quickly Django could be used to create a basic web app.\\n\\nLooking back at my commits, this project was started on 2023-04-19 and completed on 2023-04-22. This project was rushed.\\n\\n## Key Libraries and Packages\\n\\n### Django\\n\\nDjango is an extremely fast batteries included python web framework. If you are building a CRUD app and want a ORM, Django is probably the fastest option. However, if you plan building anything complicated for the frontend Django will become unmaintainable very quickly.\\n\\nMost other web frameworks (ex. Svelte) use JS and a component based system for the frontend. This allows them to be interactive and flexible. For Django and its Jinja templates to be comparable, janky JS or Htmx is required.\\n\\nHowever, everything on the backend is handled fairly well by Django. Perhaps that's why people care more about Django Rest Framework than Django.\\n\\n### Bootstrap\\n\\nBootstrap is a CSS component library. Instead of having the user define all of the details and configure their own components such as with Tailwind, Bootstrap, just defines what all the components look like.\\n\\nThis makes it fast but inflexible. Everything always looks like a Bootstrap component. This is still probably the fastest way to get good looking CSS on a Django app, which was why I used it here.\\n\\n### Htmx\\n\\nHtmx basically lets you do JS things such as HTTP requests in html. This is great for Django because you are able to request different endpoints and swap out sections of html using `hx-swap` and `hx-target`.\\n\\nThis allowed me to make it feel like this was a single page app without a lot of JS. Although, every requrest still required the server to do the rendering.\\n\\n### Sortable JS\\n\\nSortable was the JS framework used to allow drag, drop and reordering of cards. I am actually kind of surprised this worked as well as it did.\\n\\nDue to how Django works, this required some weird JS on the base template. After placing each card down, it Htmx is used to save the order of items to the database.\\n\\n### Zappa\\n\\nZappa makes it possible to deploying Django apps serverless on AWS. It does still seem a bit janky with most tutorials being incomplete. The best tutorial I found was:\\n\\nhttps://romandc.com/zappa-django-guide/\\n\\nZappa also does not fit in well within a stack. Other resources (ex. RDS and CloudFront) will need to be configured separately. Ideally you would be able to deploy the Django Lambda using AWS CDK.\\n\\n### Django S3 Sqlite\\n\\nDjango automatically uses an sqlite database, however, when deployed on AWS Lambda, sqlite can't be used due to the dependency missing in the Lambda environment.\\n\\nAn interesting work around is the package `django-s3-sqlite`. This allows you to access an sqlite databae on S3. For a database which will rarely be used, this is a much better alternative than spinning up an RDS instance. I guess this counts as a serverless database.\",\n",
       " 'slug_url': '2023-07-15_demo-manufacturing-kanban',\n",
       " 'date_created': datetime.date(2023, 7, 15),\n",
       " 'date_updated': datetime.date(2023, 11, 4)}"
      ]
     },
     "execution_count": 6,
     "metadata": {},
     "output_type": "execute_result"
    }
   ],
   "source": [
    "BlogPost(title=get_title(file), slug_url=get_slug(file), **post.to_dict()).model_dump()"
   ]
  },
  {
   "cell_type": "code",
   "execution_count": 7,
   "metadata": {},
   "outputs": [],
   "source": [
    "temp = post.to_dict()\n",
    "temp[\"title\"] = get_title(file)\n",
    "temp[\"slug_url\"] = get_slug(file)"
   ]
  },
  {
   "cell_type": "code",
   "execution_count": 8,
   "metadata": {},
   "outputs": [
    {
     "data": {
      "text/plain": [
       "{'date_created': datetime.date(2023, 7, 15),\n",
       " 'date_updated': datetime.date(2023, 11, 4),\n",
       " 'content': \"![demo mfg kanban screenshot](/images/blog/20230715_mfg_kanban.png)\\n\\n## Overview\\n\\nThis post will describe the original Django version of this project. I plan on remaking this project using Svelte and Django Rest Framework.\\n\\nThe very first draft of this project was created in a few hours as quickly as possible. The idea was to create a custom kanban system similar to what is available with Jira and Smartsheets.\\n\\nFrontend and backend was created using Django and Htmx. This was deployed to AWS Lambda using Zappa. The database is an sqlite database on AWS S3.\\n\\n## Objective\\n\\nThis project was created to test out how quickly Django could be used to create a basic web app.\\n\\nLooking back at my commits, this project was started on 2023-04-19 and completed on 2023-04-22. This project was rushed.\\n\\n## Key Libraries and Packages\\n\\n### Django\\n\\nDjango is an extremely fast batteries included python web framework. If you are building a CRUD app and want a ORM, Django is probably the fastest option. However, if you plan building anything complicated for the frontend Django will become unmaintainable very quickly.\\n\\nMost other web frameworks (ex. Svelte) use JS and a component based system for the frontend. This allows them to be interactive and flexible. For Django and its Jinja templates to be comparable, janky JS or Htmx is required.\\n\\nHowever, everything on the backend is handled fairly well by Django. Perhaps that's why people care more about Django Rest Framework than Django.\\n\\n### Bootstrap\\n\\nBootstrap is a CSS component library. Instead of having the user define all of the details and configure their own components such as with Tailwind, Bootstrap, just defines what all the components look like.\\n\\nThis makes it fast but inflexible. Everything always looks like a Bootstrap component. This is still probably the fastest way to get good looking CSS on a Django app, which was why I used it here.\\n\\n### Htmx\\n\\nHtmx basically lets you do JS things such as HTTP requests in html. This is great for Django because you are able to request different endpoints and swap out sections of html using `hx-swap` and `hx-target`.\\n\\nThis allowed me to make it feel like this was a single page app without a lot of JS. Although, every requrest still required the server to do the rendering.\\n\\n### Sortable JS\\n\\nSortable was the JS framework used to allow drag, drop and reordering of cards. I am actually kind of surprised this worked as well as it did.\\n\\nDue to how Django works, this required some weird JS on the base template. After placing each card down, it Htmx is used to save the order of items to the database.\\n\\n### Zappa\\n\\nZappa makes it possible to deploying Django apps serverless on AWS. It does still seem a bit janky with most tutorials being incomplete. The best tutorial I found was:\\n\\nhttps://romandc.com/zappa-django-guide/\\n\\nZappa also does not fit in well within a stack. Other resources (ex. RDS and CloudFront) will need to be configured separately. Ideally you would be able to deploy the Django Lambda using AWS CDK.\\n\\n### Django S3 Sqlite\\n\\nDjango automatically uses an sqlite database, however, when deployed on AWS Lambda, sqlite can't be used due to the dependency missing in the Lambda environment.\\n\\nAn interesting work around is the package `django-s3-sqlite`. This allows you to access an sqlite databae on S3. For a database which will rarely be used, this is a much better alternative than spinning up an RDS instance. I guess this counts as a serverless database.\",\n",
       " 'title': 'Demo Manufacturing Kanban',\n",
       " 'slug_url': '2023-07-15_demo-manufacturing-kanban'}"
      ]
     },
     "execution_count": 8,
     "metadata": {},
     "output_type": "execute_result"
    }
   ],
   "source": [
    "temp"
   ]
  },
  {
   "cell_type": "code",
   "execution_count": 10,
   "metadata": {},
   "outputs": [
    {
     "data": {
      "text/plain": [
       "BlogPost(title='Demo Manufacturing Kanban', content=\"![demo mfg kanban screenshot](/images/blog/20230715_mfg_kanban.png)\\n\\n## Overview\\n\\nThis post will describe the original Django version of this project. I plan on remaking this project using Svelte and Django Rest Framework.\\n\\nThe very first draft of this project was created in a few hours as quickly as possible. The idea was to create a custom kanban system similar to what is available with Jira and Smartsheets.\\n\\nFrontend and backend was created using Django and Htmx. This was deployed to AWS Lambda using Zappa. The database is an sqlite database on AWS S3.\\n\\n## Objective\\n\\nThis project was created to test out how quickly Django could be used to create a basic web app.\\n\\nLooking back at my commits, this project was started on 2023-04-19 and completed on 2023-04-22. This project was rushed.\\n\\n## Key Libraries and Packages\\n\\n### Django\\n\\nDjango is an extremely fast batteries included python web framework. If you are building a CRUD app and want a ORM, Django is probably the fastest option. However, if you plan building anything complicated for the frontend Django will become unmaintainable very quickly.\\n\\nMost other web frameworks (ex. Svelte) use JS and a component based system for the frontend. This allows them to be interactive and flexible. For Django and its Jinja templates to be comparable, janky JS or Htmx is required.\\n\\nHowever, everything on the backend is handled fairly well by Django. Perhaps that's why people care more about Django Rest Framework than Django.\\n\\n### Bootstrap\\n\\nBootstrap is a CSS component library. Instead of having the user define all of the details and configure their own components such as with Tailwind, Bootstrap, just defines what all the components look like.\\n\\nThis makes it fast but inflexible. Everything always looks like a Bootstrap component. This is still probably the fastest way to get good looking CSS on a Django app, which was why I used it here.\\n\\n### Htmx\\n\\nHtmx basically lets you do JS things such as HTTP requests in html. This is great for Django because you are able to request different endpoints and swap out sections of html using `hx-swap` and `hx-target`.\\n\\nThis allowed me to make it feel like this was a single page app without a lot of JS. Although, every requrest still required the server to do the rendering.\\n\\n### Sortable JS\\n\\nSortable was the JS framework used to allow drag, drop and reordering of cards. I am actually kind of surprised this worked as well as it did.\\n\\nDue to how Django works, this required some weird JS on the base template. After placing each card down, it Htmx is used to save the order of items to the database.\\n\\n### Zappa\\n\\nZappa makes it possible to deploying Django apps serverless on AWS. It does still seem a bit janky with most tutorials being incomplete. The best tutorial I found was:\\n\\nhttps://romandc.com/zappa-django-guide/\\n\\nZappa also does not fit in well within a stack. Other resources (ex. RDS and CloudFront) will need to be configured separately. Ideally you would be able to deploy the Django Lambda using AWS CDK.\\n\\n### Django S3 Sqlite\\n\\nDjango automatically uses an sqlite database, however, when deployed on AWS Lambda, sqlite can't be used due to the dependency missing in the Lambda environment.\\n\\nAn interesting work around is the package `django-s3-sqlite`. This allows you to access an sqlite databae on S3. For a database which will rarely be used, this is a much better alternative than spinning up an RDS instance. I guess this counts as a serverless database.\", date_created=datetime.date(2023, 7, 15), date_updated=datetime.date(2023, 11, 4))"
      ]
     },
     "execution_count": 10,
     "metadata": {},
     "output_type": "execute_result"
    }
   ],
   "source": [
    "BlogPost(**temp)"
   ]
  },
  {
   "cell_type": "code",
   "execution_count": 11,
   "metadata": {},
   "outputs": [],
   "source": [
    "with open(\"test.json\", \"w\") as outfile:\n",
    "    outfile.write(BlogPost(**temp).model_dump_json())"
   ]
  },
  {
   "cell_type": "code",
   "execution_count": 3,
   "metadata": {},
   "outputs": [],
   "source": [
    "with open(DATA_PATH + \"blogPostList.json\", \"w\") as outfile:\n",
    "    json.dump(blogPostList, outfile)"
   ]
  }
 ],
 "metadata": {
  "kernelspec": {
   "display_name": ".venv",
   "language": "python",
   "name": "python3"
  },
  "language_info": {
   "codemirror_mode": {
    "name": "ipython",
    "version": 3
   },
   "file_extension": ".py",
   "mimetype": "text/x-python",
   "name": "python",
   "nbconvert_exporter": "python",
   "pygments_lexer": "ipython3",
   "version": "3.11.6"
  }
 },
 "nbformat": 4,
 "nbformat_minor": 2
}
