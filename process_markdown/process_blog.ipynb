{
 "cells": [
  {
   "cell_type": "code",
   "execution_count": 11,
   "metadata": {},
   "outputs": [],
   "source": [
    "import frontmatter\n",
    "import re\n",
    "import typing\n",
    "import os\n",
    "import json\n",
    "\n",
    "BLOG_PATH = \"puffinsystems_homepage/static/blog/\"\n",
    "DATA_PATH = \"puffinsystems_homepage/static/data/\""
   ]
  },
  {
   "cell_type": "code",
   "execution_count": 12,
   "metadata": {},
   "outputs": [],
   "source": [
    "class BlogPost(typing.TypedDict):\n",
    "    title: str\n",
    "    slug_url: str\n",
    "    markdown_url: str\n",
    "    date_created: str\n",
    "    date_updated: str"
   ]
  },
  {
   "cell_type": "code",
   "execution_count": 13,
   "metadata": {},
   "outputs": [],
   "source": [
    "def getBlogTitle(filename: str) -> str:\n",
    "    nameWithExtension = re.split(\"_\", filename)[-1]\n",
    "    name = re.split(r\"\\.\", nameWithExtension)[0]\n",
    "    titleList = re.split(\"-\", name)\n",
    "    title = \" \".join(titleList).title()\n",
    "\n",
    "    return title\n",
    "\n",
    "\n",
    "def getSlug(filename: str) -> str:\n",
    "    date, nameWithExtension = re.split(\"_\", filename)\n",
    "    name = re.split(r\"\\.\", nameWithExtension)[0]\n",
    "    slugUrl = \"/blog/\" + date + \"/\" + name\n",
    "\n",
    "    return slugUrl\n",
    "\n",
    "\n",
    "def getBlogPost(filepath: str) -> BlogPost:\n",
    "    filename = re.split(\"/\", filepath)[-1]\n",
    "    # TODO\n",
    "    # This is workaround, need to figure out intended path\n",
    "    # Should have both slug and md file location\n",
    "\n",
    "    with open(filepath) as f:\n",
    "        post = frontmatter.load(f)\n",
    "        postDateCreate = str(post.metadata[\"date_created\"])\n",
    "        postDateUpdate = str(post.metadata[\"date_updated\"])\n",
    "\n",
    "    contentUrl = \"/blog/\" + filename\n",
    "    slugUrl = getSlug(filename)\n",
    "    title = getBlogTitle(filename)\n",
    "\n",
    "    blogPost: BlogPost = {\n",
    "        \"title\": title,\n",
    "        \"slug_url\": slugUrl,\n",
    "        \"markdown_url\": contentUrl,\n",
    "        \"date_created\": postDateCreate,\n",
    "        \"date_updated\": postDateUpdate,\n",
    "    }\n",
    "\n",
    "    return blogPost"
   ]
  },
  {
   "cell_type": "code",
   "execution_count": 14,
   "metadata": {},
   "outputs": [],
   "source": [
    "blogPostList: list[BlogPost] = []\n",
    "\n",
    "for file in os.listdir(BLOG_PATH):\n",
    "    blogPostList.append(getBlogPost(BLOG_PATH + file))"
   ]
  },
  {
   "cell_type": "code",
   "execution_count": 15,
   "metadata": {},
   "outputs": [],
   "source": [
    "with open(DATA_PATH + \"blogPostList.json\", \"w\") as outfile:\n",
    "    json.dump(blogPostList, outfile)"
   ]
  }
 ],
 "metadata": {
  "kernelspec": {
   "display_name": ".venv",
   "language": "python",
   "name": "python3"
  },
  "language_info": {
   "codemirror_mode": {
    "name": "ipython",
    "version": 3
   },
   "file_extension": ".py",
   "mimetype": "text/x-python",
   "name": "python",
   "nbconvert_exporter": "python",
   "pygments_lexer": "ipython3",
   "version": "3.11.5"
  }
 },
 "nbformat": 4,
 "nbformat_minor": 2
}
