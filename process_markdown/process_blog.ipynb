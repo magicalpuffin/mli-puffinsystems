{
 "cells": [
  {
   "cell_type": "code",
   "execution_count": 4,
   "metadata": {},
   "outputs": [],
   "source": [
    "import os\n",
    "import json\n",
    "\n",
    "from process_markdown.blog_types import BlogPost\n",
    "from process_markdown.utils import getBlogPost\n",
    "\n",
    "BLOG_PATH = \"puffinsystems_homepage/static/blog/\"\n",
    "DATA_PATH = \"puffinsystems_homepage/static/data/\""
   ]
  },
  {
   "cell_type": "code",
   "execution_count": 5,
   "metadata": {},
   "outputs": [],
   "source": [
    "blogPostList: list[BlogPost] = []\n",
    "\n",
    "for file in os.listdir(BLOG_PATH):\n",
    "    blogPostList.append(getBlogPost(BLOG_PATH + file))"
   ]
  },
  {
   "cell_type": "code",
   "execution_count": 6,
   "metadata": {},
   "outputs": [],
   "source": [
    "with open(DATA_PATH + \"blogPostList.json\", \"w\") as outfile:\n",
    "    json.dump(blogPostList, outfile)"
   ]
  }
 ],
 "metadata": {
  "kernelspec": {
   "display_name": ".venv",
   "language": "python",
   "name": "python3"
  },
  "language_info": {
   "codemirror_mode": {
    "name": "ipython",
    "version": 3
   },
   "file_extension": ".py",
   "mimetype": "text/x-python",
   "name": "python",
   "nbconvert_exporter": "python",
   "pygments_lexer": "ipython3",
   "version": "3.11.5"
  }
 },
 "nbformat": 4,
 "nbformat_minor": 2
}
